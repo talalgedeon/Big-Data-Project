{
 "cells": [
  {
   "cell_type": "markdown",
   "metadata": {},
   "source": [
    "# data sources\n",
    "1. Data.world [https://data.world/](https://data.world/)\n",
    "2. Kaggle [https://www.kaggle.com/](https://www.kaggle.com/)\n",
    "3. FiveThirthyEight [https://fivethirtyeight.com/](https://fivethirtyeight.com/)\n",
    "4. BuzzFeed [https://github.com/BuzzFeedNews](https://github.com/BuzzFeedNews)\n",
    "5. Socrata OpenData [https://dev.socrata.com/data/](https://dev.socrata.com/data/)\n",
    "6. Data gov [https://www.data.gov/](https://www.data.gov/)\n",
    "7. Quandl [https://www.quandl.com/](https://www.quandl.com/)\n",
    "8. Reddit or r/datasets [https://www.reddit.com/r/datasets/](https://www.reddit.com/r/datasets/)\n",
    "9. UCI Repository [https://archive.ics.uci.edu/ml/datasets.php](https://archive.ics.uci.edu/ml/datasets.php)\n",
    "10. Academic Torrents [https://academictorrents.com/browse.php?cat=6](https://academictorrents.com/browse.php?cat=6)\n",
    "11. IPEA [http://www.ipeadata.gov.br/Default.aspx](http://www.ipeadata.gov.br/Default.aspx)\n",
    "12. [Brasil.io](http://brasil.io) [https://brasil.io/home](https://brasil.io/home)"
   ]
  },
  {
   "cell_type": "code",
   "execution_count": 2,
   "metadata": {},
   "outputs": [
    {
     "name": "stdout",
     "output_type": "stream",
     "text": [
      "Notes\n"
     ]
    }
   ],
   "source": [
    "print('Notes')"
   ]
  },
  {
   "cell_type": "code",
   "execution_count": null,
   "metadata": {},
   "outputs": [],
   "source": []
  }
 ],
 "metadata": {
  "kernelspec": {
   "display_name": "Python 3",
   "language": "python",
   "name": "python3"
  },
  "language_info": {
   "codemirror_mode": {
    "name": "ipython",
    "version": 3
   },
   "file_extension": ".py",
   "mimetype": "text/x-python",
   "name": "python",
   "nbconvert_exporter": "python",
   "pygments_lexer": "ipython3",
   "version": "3.7.3"
  }
 },
 "nbformat": 4,
 "nbformat_minor": 2
}
