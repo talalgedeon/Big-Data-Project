{
 "cells": [
  {
   "cell_type": "raw",
   "metadata": {},
   "source": [
    "​\n",
    "Y=2019\n",
    "​\n",
    "while [[ Y -lt 2020 ]]\n",
    "do\n",
    "  mkdir $Y\n",
    "  cd $Y\n",
    "  for M in {05..12}\n",
    "  do\n",
    "    mkdir $M\n",
    "    cd $M\n",
    "    for D in {01..31}\n",
    "    do\n",
    "      mkdir $D\n",
    "      cd $D\n",
    "      for i in {01..12}\n",
    "      do\n",
    "        echo \"$i on $M/$D/$Y\" > commit.md\n",
    "        export GIT_COMMITTER_DATE=\"$Y-$M-$D 12:$i:00\"\n",
    "        export GIT_AUTHOR_DATE=\"$Y-$M-$D 12:$i:00\"\n",
    "        git add commit.md -f\n",
    "        git commit --date=\"$Y-$M-$D 12:0$i:00\" -m \"$i on $M $D $Y\"\n",
    "      done\n",
    "      cd ../\n",
    "    done\n",
    "    cd ../\n",
    "  done\n",
    "  cd ../\n",
    "  Y=3000000\n",
    "done\n",
    "git push origin master\n",
    "git rm -rf 20**\n",
    "git rm -rf 19**\n",
    "git commit -am \"cleanup\"\n",
    "git push origin master\n"
   ]
  },
  {
   "cell_type": "code",
   "execution_count": null,
   "metadata": {},
   "outputs": [],
   "source": [
    "# Git Script"
   ]
  }
 ],
 "metadata": {
  "kernelspec": {
   "display_name": "Python 3",
   "language": "python",
   "name": "python3"
  },
  "language_info": {
   "codemirror_mode": {
    "name": "ipython",
    "version": 3
   },
   "file_extension": ".py",
   "mimetype": "text/x-python",
   "name": "python",
   "nbconvert_exporter": "python",
   "pygments_lexer": "ipython3",
   "version": "3.7.3"
  }
 },
 "nbformat": 4,
 "nbformat_minor": 2
}
