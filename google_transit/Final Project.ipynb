{
 "cells": [
  {
   "cell_type": "code",
   "execution_count": 1,
   "metadata": {},
   "outputs": [],
   "source": [
    "import pandas as pd \n",
    "import numpy as np"
   ]
  },
  {
   "cell_type": "code",
   "execution_count": 19,
   "metadata": {},
   "outputs": [],
   "source": [
    "trips=pd.read_csv('trips.txt') # Lists all trips by route with destination sign for each\n",
    "routes=pd.read_csv('routes.txt')# Lists route names\n",
    "stop_times=pd.read_csv('stop_times.txt')# Contains a list of stops by routes, by trip, with their individual stop times\n",
    "stops=pd.read_csv('stops.txt')# Lists stops with their individual latitude and longitude\n",
    "shapes=pd.read_csv('shapes.txt')# Contains information for route traces\n",
    "calendar=pd.read_csv('calendar.txt') # Dates - Lists dates when MDT routes operate in holiday schedule\n",
    "\n",
    "\n",
    "\n"
   ]
  },
  {
   "cell_type": "code",
   "execution_count": null,
   "metadata": {},
   "outputs": [],
   "source": []
  }
 ],
 "metadata": {
  "kernelspec": {
   "display_name": "Python 3",
   "language": "python",
   "name": "python3"
  },
  "language_info": {
   "codemirror_mode": {
    "name": "ipython",
    "version": 3
   },
   "file_extension": ".py",
   "mimetype": "text/x-python",
   "name": "python",
   "nbconvert_exporter": "python",
   "pygments_lexer": "ipython3",
   "version": "3.7.3"
  }
 },
 "nbformat": 4,
 "nbformat_minor": 2
}
